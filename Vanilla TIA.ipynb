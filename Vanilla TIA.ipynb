{
 "cells": [
  {
   "cell_type": "code",
   "execution_count": 1,
   "metadata": {
    "collapsed": true
   },
   "outputs": [],
   "source": [
    "#Helpful References:\n",
    "#http://www.ti.com/lit/an/sboa060/sboa060.pdf\n",
    "# Walks through the noise calculations of a tia^\n",
    "\n",
    "\n",
    "import numpy as np\n",
    "import math"
   ]
  },
  {
   "cell_type": "code",
   "execution_count": 2,
   "metadata": {
    "collapsed": true
   },
   "outputs": [],
   "source": [
    "def getRMS(e0, f1_ind=None, f2_ind=None):\n",
    "    if(f1_ind == None):\n",
    "        return sum(e0**2)**.5\n",
    "    return sum(e0[f1_ind:f2_ind:1]**2)**.5\n",
    "    "
   ]
  },
  {
   "cell_type": "code",
   "execution_count": 15,
   "metadata": {
    "collapsed": true
   },
   "outputs": [],
   "source": [
    "OPAMP_GBP = 1.6E9 #1.6 Ghz\n",
    "OPAMP_OPENLOOPGAIN = 3100 #70db\n",
    "OPAMP_VNOISE = 4.8E-9\n",
    "OPAMP_INOISE = 1.3E-15\n",
    "R2 = 200E3 #200K\n",
    "C1 = 10E-9\n",
    "C2 = 10E-9\n",
    "CIRCUIT_BANDWIDTH = 5000"
   ]
  },
  {
   "cell_type": "code",
   "execution_count": 16,
   "metadata": {
    "collapsed": false
   },
   "outputs": [],
   "source": [
    "a = np.linspace(1,CIRCUIT_BANDWIDTH,CIRCUIT_BANDWIDTH)\n",
    "w = np.array(a)"
   ]
  },
  {
   "cell_type": "code",
   "execution_count": 17,
   "metadata": {
    "collapsed": false
   },
   "outputs": [],
   "source": [
    "# Amplifier Voltage noise:\n",
    "A = OPAMP_GBP; # Open loop gain\n",
    "B = 1/(R2*(C2+C1)*w); # Feedback factor. TODO, how do freq dependance?\n",
    "AB = A*B # loop gain\n",
    "en = OPAMP_VNOISE\n",
    "eo = en*(A/(1+AB))\n"
   ]
  },
  {
   "cell_type": "code",
   "execution_count": 18,
   "metadata": {
    "collapsed": false
   },
   "outputs": [],
   "source": [
    "#Input Current Noise\n",
    "#Warning, these are functions of frequency. Must have some w defined.\n",
    "i_n = OPAMP_INOISE;\n",
    "Z2 = (R2**-1 + (1/(w*C2))**-1)**-1\n",
    "eio = i_n * Z2;"
   ]
  },
  {
   "cell_type": "code",
   "execution_count": 19,
   "metadata": {
    "collapsed": false
   },
   "outputs": [],
   "source": [
    "# Resistor Noise\n",
    "K = 1.38E-23 #Boltzmann's\n",
    "T = 273 #Kelvin\n",
    "B = CIRCUIT_BANDWIDTH #Effective Bandwidth. 5Khz\n",
    "Eres_rms = (4*K*T*R2*B)**.5"
   ]
  },
  {
   "cell_type": "code",
   "execution_count": 20,
   "metadata": {
    "collapsed": false
   },
   "outputs": [],
   "source": [
    "E_volt = getRMS(eo)\n",
    "E_curr = getRMS(eio)\n",
    "Eres_rms; #Don't forget about me!\n",
    "E_tot = math.sqrt( E_volt**2 + E_curr**2 + Eres_rms**21)"
   ]
  },
  {
   "cell_type": "code",
   "execution_count": 21,
   "metadata": {
    "collapsed": false
   },
   "outputs": [
    {
     "data": {
      "text/plain": [
       "3.9197753395901886e-06"
      ]
     },
     "execution_count": 21,
     "metadata": {},
     "output_type": "execute_result"
    }
   ],
   "source": [
    "E_tot"
   ]
  },
  {
   "cell_type": "code",
   "execution_count": 25,
   "metadata": {
    "collapsed": false
   },
   "outputs": [],
   "source": [
    "a = np.array([0, 1, 2, 3, 4, 5, 6, 7, 8, 9])"
   ]
  },
  {
   "cell_type": "code",
   "execution_count": 38,
   "metadata": {
    "collapsed": false
   },
   "outputs": [
    {
     "data": {
      "text/plain": [
       "array([0, 1])"
      ]
     },
     "execution_count": 38,
     "metadata": {},
     "output_type": "execute_result"
    }
   ],
   "source": [
    "a[0:2:1]"
   ]
  },
  {
   "cell_type": "code",
   "execution_count": 14,
   "metadata": {
    "collapsed": false
   },
   "outputs": [
    {
     "data": {
      "text/plain": [
       "array([  1.00000000e+00,   2.00000000e+00,   3.00000000e+00, ...,\n",
       "         4.99800000e+03,   4.99900000e+03,   5.00000000e+03])"
      ]
     },
     "execution_count": 14,
     "metadata": {},
     "output_type": "execute_result"
    }
   ],
   "source": [
    "a"
   ]
  },
  {
   "cell_type": "code",
   "execution_count": null,
   "metadata": {
    "collapsed": true
   },
   "outputs": [],
   "source": []
  }
 ],
 "metadata": {
  "anaconda-cloud": {},
  "kernelspec": {
   "display_name": "Python [conda root]",
   "language": "python",
   "name": "conda-root-py"
  },
  "language_info": {
   "codemirror_mode": {
    "name": "ipython",
    "version": 3
   },
   "file_extension": ".py",
   "mimetype": "text/x-python",
   "name": "python",
   "nbconvert_exporter": "python",
   "pygments_lexer": "ipython3",
   "version": "3.5.2"
  }
 },
 "nbformat": 4,
 "nbformat_minor": 1
}
